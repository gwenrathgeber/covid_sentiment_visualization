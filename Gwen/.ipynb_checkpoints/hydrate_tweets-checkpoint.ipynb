{
<<<<<<< HEAD
 "cells": [
  {
   "cell_type": "markdown",
   "metadata": {},
   "source": [
    "# Hydrate tweets"
   ]
  },
  {
   "cell_type": "code",
   "execution_count": 1,
   "metadata": {},
   "outputs": [],
   "source": [
    "import numpy as np\n",
    "import pandas as pd\n",
    "import GetOldTweets3 as got\n",
    "import requests\n",
    "import time\n",
    "from datetime import datetime, date, timedelta\n",
    "from pyquery import PyQuery"
   ]
  },
  {
   "cell_type": "code",
   "execution_count": null,
   "metadata": {},
   "outputs": [],
   "source": [
    "# tweet_ids = pd.read_csv('./data/tweet_ids/all_ids.csv')"
   ]
  },
  {
   "cell_type": "code",
   "execution_count": null,
   "metadata": {},
   "outputs": [],
   "source": [
    "\n",
    "\n",
    "TweetManager.getJsonResponse(tweetCriteria, refreshCursor, cookieJar, proxy, user_agent, debug=debug)"
   ]
  },
  {
   "cell_type": "code",
   "execution_count": null,
   "metadata": {},
   "outputs": [],
   "source": [
    "tweetHTML\n",
    "\n",
    "PyQuery(tweetHTML)"
   ]
  },
  {
   "cell_type": "code",
   "execution_count": 2,
   "metadata": {},
   "outputs": [],
   "source": [
    "string1 = 'corona OR coronavirus OR covid OR covid19 OR covid-19 OR sarscov2 OR sars OR cov2 OR covid_19 OR ncov OR ncov2019 OR 2019-ncov OR pandemic OR pandemic OR coronavirusoutbreak OR wearadamnmask OR cdc OR fauci OR drfauci'\n",
    "\n",
    "string2 = '2019ncov OR quarantine OR flatteningthecurve OR flattenthecurve OR sanitizer OR handsanitizer OR lockdown OR socialdistancing OR distancing OR workfromhome OR workingfromhome OR epitwitter OR ihavecorona OR coronavirusPandemic'\n",
    "\n",
    "string3 = 'ppe OR n95 OR covidiots OR herdimmunity OR pneumonia OR chinese OR virus OR chinesevirus OR wuhan OR wuhanvirus OR kung OR flu OR kungflu OR wearamask OR vaccine OR vaccines OR coronavaccine OR coronavaccines'\n",
    "\n",
    "ranges = [('2020-03-01','2020-03-31'),('2020-04-01','2020-04-30'),('2020-05-01','2020-05-31'),('2020-06-01','2020-06-30'),('2020-07-01','2020-07-31')]\n"
   ]
  },
  {
   "cell_type": "code",
   "execution_count": 6,
   "metadata": {},
   "outputs": [],
   "source": [
    "criteria = (got.manager.TweetCriteria()\n",
    "    .setQuerySearch(string1)\n",
    "    .setSince('2020-03-20')\n",
    "    .setUntil('2020-03-23')\n",
    "    .setNear('38.94, -98.47')\n",
    "    .setWithin('100mi'))\n"
   ]
  },
  {
   "cell_type": "code",
   "execution_count": null,
   "metadata": {},
   "outputs": [],
   "source": [
    "#tweets = got.manager.TweetManager.getTweets(criteria, debug=True)"
   ]
  },
  {
   "cell_type": "code",
   "execution_count": 16,
   "metadata": {},
   "outputs": [
    {
     "data": {
      "text/plain": [
       "'1241876187061858311'"
      ]
     },
     "execution_count": 16,
     "metadata": {},
     "output_type": "execute_result"
    }
   ],
   "source": [
    "tweets[0][0].id"
   ]
  },
  {
   "cell_type": "code",
   "execution_count": 19,
   "metadata": {},
   "outputs": [
    {
     "data": {
      "text/plain": [
       "'@senatemajldr wow trying to push $425 billion out for your rich friends hiding in corona funding... you truly are a piece of work.'"
      ]
     },
     "execution_count": 19,
     "metadata": {},
     "output_type": "execute_result"
    }
   ],
   "source": [
    "tweets[0][0].text"
   ]
  },
  {
   "cell_type": "code",
   "execution_count": 35,
   "metadata": {},
   "outputs": [
    {
     "data": {
      "text/plain": [
       "'/drains84'"
      ]
     },
     "execution_count": 35,
     "metadata": {},
     "output_type": "execute_result"
    }
   ],
   "source": [
    "tweets[1][0].find('a').get('href')"
   ]
  },
  {
   "cell_type": "code",
   "execution_count": 37,
   "metadata": {},
   "outputs": [
    {
     "data": {
      "text/plain": [
       "['/drains84',\n",
       " '/drains84/status/1241876187061858311',\n",
       " '/senatemajldr',\n",
       " '/kanstinagarcia',\n",
       " '/kanstinagarcia/status/1241875778469613575',\n",
       " 'https://t.co/GOjCV1yH6c',\n",
       " '/turner_forsyth',\n",
       " '/turner_forsyth/status/1241871740239859718',\n",
       " '/hashtag/StayHomeKC?src=hash',\n",
       " '/hashtag/COVIDIOT?src=hash',\n",
       " '/hashtag/TogetherAtHome?src=hash',\n",
       " 'https://t.co/YhLzMpHif2',\n",
       " '/ABC/status/1241852468155133953',\n",
       " '/CoryAChapman1',\n",
       " '/CoryAChapman1/status/1241867547445772297',\n",
       " '/Phil_Mattingly',\n",
       " '/hashtag/MoscowMitch?src=hash',\n",
       " '/hashtag/SaveKansas?src=hash',\n",
       " '/hashtag/VoteBlue2020?src=hash',\n",
       " '/hashtag/coronavirus?src=hash',\n",
       " '/OMallon',\n",
       " '/OMallon/status/1241866203657895936',\n",
       " '/hashtag/coronavirus?src=hash',\n",
       " '/alanhowze',\n",
       " '/alanhowze/status/1241863766419165184',\n",
       " '/scriberight',\n",
       " '/LibbyHowze',\n",
       " '/flsku',\n",
       " '/flsku/status/1241852590243164162',\n",
       " '/hashtag/COVID19?src=hash',\n",
       " '/hashtag/coronavirus?src=hash',\n",
       " '/MorganMcNeal90',\n",
       " '/MorganMcNeal90/status/1241847752428007424',\n",
       " '/bereal97',\n",
       " '/cdiedrich23',\n",
       " '/flidgie',\n",
       " '/flidgie/status/1241842747109187588',\n",
       " 'https://t.co/11dN0KAL8N',\n",
       " '/LacewingPhoto',\n",
       " '/LacewingPhoto/status/1241832759435374595',\n",
       " '/hashtag/QuaratineLife?src=hash',\n",
       " '/hashtag/coronavirus?src=hash',\n",
       " '/hashtag/lockdown?src=hash',\n",
       " '/hashtag/rural_living?src=hash',\n",
       " 'https://t.co/V8KVB5W2ui',\n",
       " '/MatthewKelsoDVM',\n",
       " '/MatthewKelsoDVM/status/1241816855590899713',\n",
       " '/ALLiD0isQuinn',\n",
       " '/Liv_Kite21',\n",
       " '/Liv_Kite21/status/1241815716929646593',\n",
       " '/hashtag/Kansas?src=hash',\n",
       " '/hashtag/COVID19?src=hash',\n",
       " '/hashtag/WashYourHands?src=hash',\n",
       " '/hashtag/WashYourHands?src=hash',\n",
       " '/hashtag/StayHome?src=hash',\n",
       " '/hashtag/StayHome?src=hash',\n",
       " '/hashtag/StayAtHome?src=hash',\n",
       " '/hashtag/StayAtHome?src=hash',\n",
       " '/hashtag/SaveLives?src=hash',\n",
       " 'https://t.co/cnoK0tlyB6',\n",
       " '/CoryAChapman1',\n",
       " '/CoryAChapman1/status/1241811685574414336',\n",
       " '/hashtag/SaveKansas?src=hash',\n",
       " '/hashtag/VoteBlue2020?src=hash',\n",
       " '/hashtag/coronavirus?src=hash',\n",
       " 'https://t.co/QYosrAmD9S',\n",
       " '/charlesornstein/status/1241809475599765507',\n",
       " '/TreGiles',\n",
       " '/TreGiles/status/1241805419636568064',\n",
       " '/OMallon',\n",
       " '/OMallon/status/1241800930439421952',\n",
       " '/hashtag/COVID19?src=hash',\n",
       " '/turner_forsyth',\n",
       " '/turner_forsyth/status/1241798478768062465',\n",
       " '/RanaAwdish',\n",
       " '/hashtag/COVID19?src=hash',\n",
       " '/hashtag/BetterTogether?src=hash',\n",
       " '/hashtag/StayHomeKC?src=hash',\n",
       " '/hashtag/PPEShortages?src=hash',\n",
       " 'https://t.co/Q8S8vmuoLZ',\n",
       " '/RanaAwdish/status/1241537430651633664',\n",
       " '/dsteinle91',\n",
       " '/dsteinle91/status/1241796307234295808',\n",
       " '/hashtag/WeWillBeBack?src=hash',\n",
       " '/hashtag/compete?src=hash',\n",
       " 'https://t.co/NwVtdnsHBq',\n",
       " '/EmilyKansas',\n",
       " '/EmilyKansas/status/1241795742563328000',\n",
       " '/hashtag/COVID19?src=hash',\n",
       " '/hashtag/sixfeetapart?src=hash',\n",
       " '/UnitedAir_Sux',\n",
       " '/UnitedAir_Sux/status/1241792975497310208',\n",
       " '/hashtag/UnitedSucks?src=hash',\n",
       " '/united',\n",
       " 'https://t.co/5mw8vadmqg',\n",
       " '/GeorgeMcKee1',\n",
       " '/GeorgeMcKee1/status/1241783875166261249',\n",
       " '/hashtag/covid_paranoia?src=hash',\n",
       " 'https://t.co/Zf3Q0q7q8z']"
      ]
     },
     "execution_count": 37,
     "metadata": {},
     "output_type": "execute_result"
    }
   ],
   "source": [
    "[obj.get('href') for obj in tweets[1][0].find('a')]"
   ]
  },
  {
   "cell_type": "code",
   "execution_count": null,
   "metadata": {},
   "outputs": [],
   "source": [
    "x = tweets[0]"
   ]
  },
  {
   "cell_type": "code",
   "execution_count": null,
   "metadata": {},
   "outputs": [],
   "source": [
    "x.geo"
   ]
  },
  {
   "cell_type": "code",
   "execution_count": null,
   "metadata": {},
   "outputs": [],
   "source": [
    "[tweet.geo for tweet in tweets if tweet.geo != '']"
   ]
  },
  {
   "cell_type": "code",
   "execution_count": null,
   "metadata": {},
   "outputs": [],
   "source": [
    "datetime.strptime('2020-03-05', '%Y-%m-%d') > datetime.strptime('2020-03-04', '%Y-%m-%d')"
   ]
  },
  {
   "cell_type": "code",
   "execution_count": null,
   "metadata": {},
   "outputs": [],
   "source": []
  },
  {
   "cell_type": "code",
   "execution_count": null,
   "metadata": {},
   "outputs": [],
   "source": [
    "def DownloadTweets(SinceDate, UntilDate, Query):\n",
    "    day = datetime.strptime(SinceDate, '%Y-%m-%d')\n",
    "    next_day = since + timedelta(days=1)\n",
    "    until = datetime.strptime(UntilDate, '%Y-%m-%d')\n",
    "    \n",
    "    while day < until:\n",
    "        print(day)\n",
    "        criteria = got.manager.TweetCriteria().setQuerySearch(Query).setSince(day.strftime('%Y-%m-%d')).setUntil(next_day.strftime('%Y-%m-%d')).setNear('Kansas').setWithin('2000mi')\n",
    "        download = got.manager.TweetManager.getTweets(criteria)\n",
    "        tweetlist=[[tweet.date, tweet.text,tweet.geo] for tweet in firstdownload]\n",
    "    "
   ]
  },
  {
   "cell_type": "code",
   "execution_count": null,
   "metadata": {},
   "outputs": [],
   "source": [
    "def DownloadTweets(SinceDate, UntilDate, Query):\n",
    "    '''\n",
    "    Downloads all tweets from a certain month in three sessions in order to avoid sending too many requests. \n",
    "    Date format = 'yyyy-mm-dd'. \n",
    "    Query=string.\n",
    "    '''\n",
    "    since = datetime.strptime(SinceDate, '%Y-%m-%d')\n",
    "    until= datetime.strptime(UntilDate, '%Y-%m-%d')\n",
    "    fifth = since + timedelta(days = 5)\n",
    "    tenth = since + timedelta(days = 10)\n",
    "    fifteenth = since + timedelta(days = 15)\n",
    "    twentieth = since + timedelta(days=20)\n",
    "    twentyfifth = since + timedelta(days = 25)\n",
    "    \n",
    "    print ('starting first download')\n",
    "    first = got.manager.TweetCriteria().setQuerySearch(Query).setSince(since.strftime('%Y-%m-%d')).setUntil(fifth.strftime('%Y-%m-%d')).setNear('Kansas').setWithin('2000mi')\n",
    "    firstdownload = got.manager.TweetManager.getTweets(first)\n",
    "    firstlist=[[tweet.date, tweet.text] for tweet in firstdownload]\n",
    "    \n",
    "    df_1 = pd.DataFrame.from_records(firstlist, columns = [\"date\", \"tweet\"])\n",
    "    df_1.to_csv(\"./data/tweets/%s_1.csv\" % SinceDate, index=False)\n",
    "    \n",
    "    time.sleep(600)\n",
    "    \n",
    "    print ('starting second download')\n",
    "    second = got.manager.TweetCriteria().setQuerySearch(Query).setSince(fifth.strftime('%Y-%m-%d')).setUntil(tenth.strftime('%Y-%m-%d')).setNear('Kansas').setWithin('2000mi')\n",
    "    seconddownload = got.manager.TweetManager.getTweets(second)\n",
    "    secondlist=[[tweet.date, tweet.text] for tweet in seconddownload]\n",
    "    \n",
    "    df_2 = pd.DataFrame.from_records(secondlist, columns = [\"date\", \"tweet\"])\n",
    "    df_2.to_csv(\"./data/tweets/%s_2.csv\" % SinceDate, index=False)\n",
    "    \n",
    "    time.sleep(600)\n",
    "\n",
    "    print ('starting third download')\n",
    "    third = got.manager.TweetCriteria().setQuerySearch(Query).setSince(tenth.strftime('%Y-%m-%d')).setUntil(fifteenth.strftime('%Y-%m-%d')).setNear('Kansas').setWithin('2000mi')\n",
    "    thirddownload = got.manager.TweetManager.getTweets(third)\n",
    "    thirdlist=[[tweet.date, tweet.text] for tweet in thirddownload]\n",
    "    \n",
    "    df_3 = pd.DataFrame.from_records(thirdlist, columns = [\"date\", \"tweet\"])\n",
    "    df_3.to_csv(\"%s_3.csv\" % SinceDate)\n",
    "    \n",
    "    time.sleep(600)\n",
    "    \n",
    "    print ('starting fourth download')\n",
    "    fourth = got.manager.TweetCriteria().setQuerySearch(Query).setSince(fifteenth.strftime('%Y-%m-%d')).setUntil(twentieth.strftime('%Y-%m-%d')).setNear('Kansas').setWithin('2000mi')\n",
    "    fourthdownload = got.manager.TweetManager.getTweets(fourth)\n",
    "    fourthlist=[[tweet.date, tweet.text] for tweet in fourthdownload]\n",
    "    \n",
    "    df_4 = pd.DataFrame.from_records(fourthlist, columns = [\"date\", \"tweet\"])\n",
    "    df_4.to_csv(\"%s_4.csv\" % SinceDate)\n",
    "\n",
    "    time.sleep(600)\n",
    "    \n",
    "    print ('starting fifth download')\n",
    "    fifth = got.manager.TweetCriteria().setQuerySearch(Query).setSince(twentieth.strftime('%Y-%m-%d')).setUntil(twentyfifth.strftime('%Y-%m-%d')).setNear('Kansas').setWithin('2000mi')\n",
    "    fifthdownload = got.manager.TweetManager.getTweets(fifth)\n",
    "    fifthlist=[[tweet.date, tweet.text] for tweet in fifthdownload]\n",
    "    \n",
    "    df_5 = pd.DataFrame.from_records(fifthlist, columns = [\"date\", \"tweet\"])\n",
    "    df_5.to_csv(\"%s_5.csv\" % SinceDate)\n",
    "    \n",
    "    time.sleep(600)\n",
    "    \n",
    "    print ('starting sixth download')\n",
    "    sixth = got.manager.TweetCriteria().setQuerySearch(Query).setSince(twentyfifth.strftime('%Y-%m-%d')).setUntil(until.strftime('%Y-%m-%d')).setNear('Kansas').setWithin('2000mi')\n",
    "    sixthdownload = got.manager.TweetManager.getTweets(sixth)\n",
    "    sixthlist=[[tweet.date, tweet.text] for tweet in sixthdownload]\n",
    "    \n",
    "    df_6 = pd.DataFrame.from_records(sixthlist, columns = [\"date\", \"tweet\"])\n",
    "    df_6.to_csv(\"%s_6.csv\" % SinceDate)\n",
    "    \n",
    "    \n",
    "    df=pd.concat([df_1,df_2,df_3,df_4,df_5,df_6])\n",
    "    df.to_csv(\"./data/tweets/%s.csv\" % SinceDate, index=False)\n",
    "    \n",
    "    return df"
   ]
  },
  {
   "cell_type": "code",
   "execution_count": null,
   "metadata": {},
   "outputs": [],
   "source": [
    "%%time\n",
    "tweets = []\n",
    "for start, until in ranges:\n",
    "    print(start,until)\n",
    "    for query_string in [string1,string2,string3]:\n",
    "            tweets.append(DownloadTweets(start,until, query_string))\n",
    "        "
   ]
  }
 ],
 "metadata": {
  "kernelspec": {
   "display_name": "Python 3",
   "language": "python",
   "name": "python3"
  },
  "language_info": {
   "codemirror_mode": {
    "name": "ipython",
    "version": 3
   },
   "file_extension": ".py",
   "mimetype": "text/x-python",
   "name": "python",
   "nbconvert_exporter": "python",
   "pygments_lexer": "ipython3",
   "version": "3.7.6"
  },
  "toc": {
   "base_numbering": 1,
   "nav_menu": {},
   "number_sections": true,
   "sideBar": true,
   "skip_h1_title": false,
   "title_cell": "Table of Contents",
   "title_sidebar": "Contents",
   "toc_cell": false,
   "toc_position": {},
   "toc_section_display": true,
   "toc_window_display": false
  }
 },
=======
 "cells": [],
 "metadata": {},
>>>>>>> 3d85e9f6a7a3c4e440be3257a2a33a8d1787fd9a
 "nbformat": 4,
 "nbformat_minor": 4
}
