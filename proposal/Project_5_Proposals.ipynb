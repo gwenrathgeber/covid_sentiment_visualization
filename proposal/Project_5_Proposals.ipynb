{
 "cells": [
  {
   "cell_type": "markdown",
   "metadata": {
    "colab_type": "text",
    "id": "pFNrcHFnFwlK"
   },
   "source": [
    "# Project 5 Proposals\n",
    "## Eujin Lee, Gwen Rathgeber\n",
    "\n",
    "### 1: Geographically mapping COVID-19 Tweet Sentiment\n",
    "\n",
    "\n",
    "\n",
    "**1.   Data Sourcing**\n",
    "* [Geolocated tweet IDs dataset](https://ieee-dataport.org/open-access/coronavirus-covid-19-geo-tagged-tweets-dataset)\n",
    "* [twarc Twitter API wrapper to hydrate tweed IDs](https://github.com/DocNow/twarc)\n",
    "* Keep only US tweets\n",
    "***2.   Analysis**\n",
    "* Sentiment analysis of all tweets\n",
    "* Aggregate by date and state\n",
    "***3.   Deliverables**\n",
    "* Time-lapse choropleth visualization of changing US twitter user's sentiment related to COVID-19 over the course of the pandemic\n",
    "* Bonus: Comparison choropleth visualization of caseload by state\n",
    "\n",
    "\n",
    "### 2: Monitor live FDNY radio reports for real time identification of people needing assistance.\n",
    "\n",
    "**1.   Data Sourcing**\n",
    "* [Broadcastify](https://m.broadcastify.com/archives/feed/29168)\n",
    "* BroadCastify Archive Toolkit (BART) and [Selenium webscraping library](https://selenium-python.readthedocs.io)\n",
    "* Focused on the 5 Boroughs <br>\n",
    "***2.  Analysis**\n",
    "* Converting audio in chunks using PyDub then into text format Google Speech to Text API\n",
    "* Obtaining the latitude and longitude through feeding addresses into Google Maps Geocoding API \n",
    "* Aggregate by specific locations in New York City \n",
    "***3.   Deliverables**\n",
    "* Point and Frequency Map number of reports of incidents and location \n",
    "* Cluster and Heat Map\n",
    "\n",
    "### 3: Identifying Risk Areas for COVID-19 in New York City \n",
    "\n",
    "**1.   Data Sourcing**\n",
    "* https://www1.nyc.gov/site/doh/covid/covid-19-data.page\n",
    "* [NYC Health](https://github.com/nychealth/coronavirus-data)\n",
    "* Risk Management to prevent the spread of COVID 19 within the city. \n",
    "***2.  Analysis**\n",
    "* Creating a heat map of COVID 19 cases in New York City based on the level of risk\n",
    "* Identify hospitalization rates and manage healthcare distribution\n",
    "* Create a solution for provision of healthcare services in low income neighborhoods\n",
    "***3.   Deliverables**\n",
    "* Heat Maps\n",
    "* Data Visualizations of Demographic \n",
    "* Timelapse? \n",
    "\n",
    "\n",
    "\n",
    "\n",
    "\n"
   ]
  }
 ],
 "metadata": {
  "accelerator": "GPU",
  "colab": {
   "name": "Project 5 Proposals.ipynb",
   "provenance": []
  },
  "kernelspec": {
   "display_name": "Python 3",
   "language": "python",
   "name": "python3"
  },
  "language_info": {
   "codemirror_mode": {
    "name": "ipython",
    "version": 3
   },
   "file_extension": ".py",
   "mimetype": "text/x-python",
   "name": "python",
   "nbconvert_exporter": "python",
   "pygments_lexer": "ipython3",
   "version": "3.7.6"
  },
  "toc": {
   "base_numbering": 1,
   "nav_menu": {},
   "number_sections": true,
   "sideBar": true,
   "skip_h1_title": false,
   "title_cell": "Table of Contents",
   "title_sidebar": "Contents",
   "toc_cell": false,
   "toc_position": {},
   "toc_section_display": true,
   "toc_window_display": false
  }
 },
 "nbformat": 4,
 "nbformat_minor": 1
}
